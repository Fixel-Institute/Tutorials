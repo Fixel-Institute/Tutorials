{
 "cells": [
  {
   "cell_type": "markdown",
   "metadata": {},
   "source": [
    "# Signal Processing Tutorial #0 - Python Environment\n",
    "\n",
    "The tutorials will be written in Jupyter Notebooks to provide a step-by-step demonstration of signal processing. All tutorial codes are written in Python Version 3.9.5. Periodically would be updated if functions are deprecated. \n",
    "\n",
    "This is Tutorial 0, which is meant for people who never used Python before, and it starts with the basic of the basic. Hopefully it helps you understand what Python is like how to translate your previous programming experience to Python. "
   ]
  },
  {
   "cell_type": "markdown",
   "metadata": {},
   "source": [
    "## Variable Assignment\n",
    "\n",
    "Python variable definition does not require type-definition. For example, other language may require you to specifically define what data-type is being saved to that variable in order to allocate memories for it. But here you can assign variable by directly calling it. "
   ]
  },
  {
   "cell_type": "code",
   "execution_count": 8,
   "metadata": {},
   "outputs": [],
   "source": [
    "# Assign a number 5 to variable A\n",
    "A = 5\n",
    "\n",
    "# Assign a number 10.5 to variable B\n",
    "B = 10.5\n",
    "\n",
    "# Now store a string in variable A, and A is no longer integer 5 but a 5-character string.\n",
    "A = \"Hello\""
   ]
  },
  {
   "cell_type": "markdown",
   "metadata": {},
   "source": [
    "A little more advance topics would be to discuss why Python variables are different, essentially it is because every thing in Python is an object. Even a number 5, it is actually an integer-class object labeled as 5. If you are interested, here is a nice [post](https://medium.com/@bdov_/python-objects-part-iv-first-class-everything-7da3945e3552) about it"
   ]
  },
  {
   "cell_type": "markdown",
   "metadata": {},
   "source": [
    "## Hello World!\n",
    "\n",
    "Every programming language class starts with the \"Hello World!\" example for a good reason, because that is how you debug your program if something goes wrong. \n",
    "\n",
    "Some IDE (including Jupyter Notebook) contains variable explorer, but printing variable is still the best approach in my opinions especially if your variable is heavily nested in dictionaries. "
   ]
  },
  {
   "cell_type": "code",
   "execution_count": 29,
   "metadata": {},
   "outputs": [
    {
     "name": "stdout",
     "output_type": "stream",
     "text": [
      "Hello World!\n",
      "Hello World, again!\n",
      "\n",
      "\n",
      "This is a multiline string\n",
      "it can be very long!\n",
      "\n",
      "\n",
      "it is a silent....\n"
     ]
    },
    {
     "data": {
      "text/plain": [
       "'\\n\\nHowever, in JupyterNotebook, last variable will be print on screen anyway \\nso this will still show up if there are no following codes.\\n\\nThis part of the code is actually being executed as a string and not a code \\n\\n'"
      ]
     },
     "execution_count": 29,
     "metadata": {},
     "output_type": "execute_result"
    }
   ],
   "source": [
    "# Hello World\n",
    "print(\"Hello World!\")\n",
    "\n",
    "# Printing Variable \n",
    "A = \"Hello World, again!\"\n",
    "print(A)\n",
    "\n",
    "# String can actually be a block, by using 3 quotation marks:\n",
    "print(\"\"\"\n",
    "\n",
    "This is a multiline string\n",
    "it can be very long!\n",
    "\n",
    "\"\"\")\n",
    "\n",
    "\n",
    "\"\"\"\n",
    "\n",
    "Some people also use this as a way to comment out block of codes.\n",
    "Or write your function descriptions in multi-line text. \n",
    "\n",
    "print(\"Hello?\")\n",
    "print(\"Can anyone hear me?\")\n",
    "\n",
    "\"\"\"\n",
    "\n",
    "print(\"it is a silent....\")\n",
    "\n",
    "\"\"\"\n",
    "\n",
    "However, in JupyterNotebook, last variable will be print on screen anyway \n",
    "so this will still show up if there are no following codes.\n",
    "\n",
    "This part of the code is actually being executed as a string and not a code \n",
    "\n",
    "\"\"\"\n"
   ]
  },
  {
   "cell_type": "markdown",
   "metadata": {},
   "source": [
    "In addition to the stand string printing, we can also do string manipulation in Python relatively easy. "
   ]
  },
  {
   "cell_type": "code",
   "execution_count": 31,
   "metadata": {},
   "outputs": [
    {
     "name": "stdout",
     "output_type": "stream",
     "text": [
      "Hello World!\n",
      "Hello World! 5 times\n",
      "Hello World! 5 times is the string we just wrote\n",
      "π is 3.14\n"
     ]
    }
   ],
   "source": [
    "A = \"Hello \"\n",
    "\n",
    "B = \"World!\"\n",
    "\n",
    "# Now C is \"Hello Worlds!\"\n",
    "C = A + B\n",
    "print(A + B)\n",
    "\n",
    "# You can also add in numbers if you want\n",
    "D = C + \" \" + str(5) + \" times\"\n",
    "print(D)\n",
    "\n",
    "# String formating can also make your life easy\n",
    "E = f\"{D} is the string we just wrote\"\n",
    "print(E)\n",
    "\n",
    "# you can also do them with different precisions (oh and yes you can use special characters)\n",
    "print(f\"π is {3.141592653:.2f}\")"
   ]
  },
  {
   "cell_type": "markdown",
   "metadata": {},
   "source": [
    "## Typical Python Variable Types\n",
    "\n",
    "Standard python variable types include Integer, Float, and String. For the most part, you can find out the type of the variable by simply calling the type function on the variable"
   ]
  },
  {
   "cell_type": "code",
   "execution_count": 14,
   "metadata": {},
   "outputs": [
    {
     "name": "stdout",
     "output_type": "stream",
     "text": [
      "<class 'int'>\n",
      "<class 'str'>\n",
      "<class 'float'>\n"
     ]
    }
   ],
   "source": [
    "# type is integer\n",
    "print(type(5))\n",
    "\n",
    "# type is str\n",
    "print(type(\"Hello\"))\n",
    "\n",
    "# type is float\n",
    "print(type(5.5))"
   ]
  },
  {
   "cell_type": "markdown",
   "metadata": {},
   "source": [
    "Another common way of doing thing is through List and Dictionary"
   ]
  },
  {
   "cell_type": "code",
   "execution_count": 14,
   "metadata": {},
   "outputs": [
    {
     "name": "stdout",
     "output_type": "stream",
     "text": [
      "[1, 2, 3, 4, 5, 6, 7, 8]\n",
      "{'Key1': 'Value1', 'Key2': 'Value2'}\n",
      "Value of Key1 is Value1\n",
      "{'Key1': 'Value1', 'Key2': 'New Value for Key 2', 'Key3': 'Hello!', 'Values can have different types': 5}\n",
      "First Value is 1\n",
      "Last Value is 8\n"
     ]
    }
   ],
   "source": [
    "ThisIsADictionary = dict()\n",
    "ThisIsAList = list()\n",
    "\n",
    "# Initializing a List\n",
    "ListA = [1,2,3,4,5,6,7,8]\n",
    "print(ListA)\n",
    "\n",
    "# Initializing a dictionary\n",
    "DictA = {\"Key1\": \"Value1\", \"Key2\": \"Value2\"}\n",
    "print(DictA)\n",
    "\n",
    "# Accessing and Editing a dictionary\n",
    "print(\"Value of Key1 is \" + DictA[\"Key1\"])\n",
    "DictA[\"Key3\"] = \"Hello!\"\n",
    "DictA[\"Key2\"] = \"New Value for Key 2\"\n",
    "DictA[\"Values can have different types\"] = 5\n",
    "print(DictA)\n",
    "\n",
    "# Accessing List, python is 0 indexed. All list are circular, so -1 is equivalent of last index.\n",
    "print(f\"First Value of List is {ListA[0]}\")\n",
    "print(f\"Last Value of List is {ListA[-1]}\")\n",
    "\n"
   ]
  },
  {
   "cell_type": "markdown",
   "metadata": {},
   "source": [
    "As mentioned above, everything is a class in Python, meaning that type is simply returning the base object-class. There can be many different variable \"types\" as you start using different python modules, which is what we are going to talk about next"
   ]
  },
  {
   "cell_type": "markdown",
   "metadata": {},
   "source": [
    "## Python Modules\n",
    "\n",
    "By default, Python has only the most basic arithmetic available. Here are some common equation that people would use. "
   ]
  },
  {
   "cell_type": "code",
   "execution_count": 32,
   "metadata": {},
   "outputs": [
    {
     "name": "stdout",
     "output_type": "stream",
     "text": [
      "0\n",
      "Now A is 30\n",
      "-13\n"
     ]
    }
   ],
   "source": [
    "# Assign Variable \n",
    "A = 0\n",
    "print(A)\n",
    "\n",
    "# You can update variable by doing math\n",
    "A = A + 5\n",
    "\n",
    "# You can also shorten it by doing operation with the following styles\n",
    "A += 1\n",
    "A *= 5\n",
    "print(f\"Now A is {A}\")\n",
    "\n",
    "# B is 17\n",
    "B = 17\n",
    "\n",
    "# C is B subtracted by A\n",
    "C = B - A\n",
    "print(C)\n"
   ]
  },
  {
   "cell_type": "markdown",
   "metadata": {},
   "source": [
    "Additional modules allow us to do something more than these. The common module used in scientific computing is the **numpy** module and **scipy** module.\n",
    "\n",
    "You always add modules to your project by calling **import**. \n",
    "\n",
    "There are a few ways of calling import:\n",
    "\n",
    "```python\n",
    "import numpy\n",
    "import numpy as np\n",
    "from numpy import power\n",
    "from scipy.stats import pearsonr as corr\n",
    "```\n",
    "\n",
    "The default import simply add module to your environment. Then you can call the function in module directly as attribute of the module: **numpy.power()**.\n",
    "\n",
    "But some module name is loooonng. So you can do the 2nd line style, in which you rename the numpy module to np, and then you can call its function via new name: **np.power()**\n",
    "\n",
    "The last method is that if you only want one single function from that module and you want to keep it simple and clean, then you may do 3rd line, and call the function via **power()** directly. "
   ]
  },
  {
   "cell_type": "code",
   "execution_count": 9,
   "metadata": {},
   "outputs": [
    {
     "name": "stdout",
     "output_type": "stream",
     "text": [
      "25\n",
      "3.2188758248682006\n",
      "These 2 varilable has a correlation coefficient of 0.029 and p-value of 0.772\n"
     ]
    }
   ],
   "source": [
    "import numpy as np\n",
    "\n",
    "# 5 to the power of 2\n",
    "A = np.power(5, 2)\n",
    "print(A)\n",
    "\n",
    "# natural log \n",
    "B = np.log(A)\n",
    "print(B)\n",
    "\n",
    "from scipy.stats import pearsonr as corr\n",
    "A = np.random.rand(100)\n",
    "B = np.random.rand(100)\n",
    "r, p = corr(A, B)\n",
    "\n",
    "print(f\"These 2 varilable has a correlation coefficient of {r:.3f} and p-value of {p:.3f}\")\n",
    "\n",
    "# Other important modules will be discussed in the following tutorials. \n"
   ]
  }
 ],
 "metadata": {
  "kernelspec": {
   "display_name": "Python 3.8.10 64-bit",
   "language": "python",
   "name": "python3"
  },
  "language_info": {
   "codemirror_mode": {
    "name": "ipython",
    "version": 3
   },
   "file_extension": ".py",
   "mimetype": "text/x-python",
   "name": "python",
   "nbconvert_exporter": "python",
   "pygments_lexer": "ipython3",
   "version": "3.8.10"
  },
  "orig_nbformat": 4,
  "vscode": {
   "interpreter": {
    "hash": "31f2aee4e71d21fbe5cf8b01ff0e069b9275f58929596ceb00d14d90e3e16cd6"
   }
  }
 },
 "nbformat": 4,
 "nbformat_minor": 2
}
